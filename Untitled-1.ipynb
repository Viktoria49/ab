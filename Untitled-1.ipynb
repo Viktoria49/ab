{
 "cells": [
  {
   "attachments": {},
   "cell_type": "markdown",
   "metadata": {},
   "source": [
    "### Результаты: 1) Число юзеров в группах, которые заходили на сайт в период эксперимента: n1 = 15550 и n2 = 15550. 2) Число юзеров в группах, которые совершили хотя бы одну покупку за период эксперимента: n1 = 164 и n2 = 228. 3) Конверсии: conv1 = 1.05% conv2 = 1.47%."
   ]
  },
  {
   "cell_type": "code",
   "execution_count": 1,
   "metadata": {},
   "outputs": [
    {
     "data": {
      "text/plain": [
       "(1.0546623794212218, 1.4662379421221865)"
      ]
     },
     "execution_count": 1,
     "metadata": {},
     "output_type": "execute_result"
    }
   ],
   "source": [
    "from scipy.stats import norm\n",
    "import numpy as np\n",
    "\n",
    "users1 = 15550\n",
    "users2 = 15550\n",
    "buyers1 = 164\n",
    "buyers2 = 228\n",
    "\n",
    "# Конверсии в группах\n",
    "conv1 = buyers1 / users1\n",
    "conv2 = buyers2 / users2\n",
    "conv1*100, conv2*100"
   ]
  },
  {
   "cell_type": "code",
   "execution_count": 2,
   "metadata": {},
   "outputs": [
    {
     "data": {
      "text/plain": [
       "1.2604501607717042"
      ]
     },
     "execution_count": 2,
     "metadata": {},
     "output_type": "execute_result"
    }
   ],
   "source": [
    "# Объединенная конверсия\n",
    "p = (buyers1 + buyers2) / (users1 + users2)\n",
    "p*100"
   ]
  },
  {
   "cell_type": "code",
   "execution_count": 3,
   "metadata": {},
   "outputs": [
    {
     "data": {
      "text/plain": [
       "-3.253054722696254"
      ]
     },
     "execution_count": 3,
     "metadata": {},
     "output_type": "execute_result"
    }
   ],
   "source": [
    "# z-статистика\n",
    "z_stat = (conv1 - conv2) / np.sqrt(p * (1 - p) * (1/users1 + 1/users2))\n",
    "z_stat"
   ]
  },
  {
   "cell_type": "code",
   "execution_count": 4,
   "metadata": {},
   "outputs": [
    {
     "data": {
      "text/plain": [
       "0.001141715077067056"
      ]
     },
     "execution_count": 4,
     "metadata": {},
     "output_type": "execute_result"
    }
   ],
   "source": [
    "# p-value (двусторонний тест)\n",
    "p_value = norm.sf(abs(z_stat))*2\n",
    "p_value"
   ]
  },
  {
   "attachments": {},
   "cell_type": "markdown",
   "metadata": {},
   "source": [
    "На основе z-статистики: -3.2531 и p-value: 0.0011, можно сделать следующие выводы:\n",
    "\n",
    "z-статистика отрицательна, что означает, что конверсия в первой группе (buyers1 / users1) меньше, чем конверсия во второй группе (buyers2 / users2).\n",
    "p-value меньше общепринятого уровня значимости 0.05, что означает, что разница между конверсиями в двух группах статистически значима.\n",
    "\n",
    "Таким образом, можно сделать вывод о том, что конверсия во второй группе статистически значимо выше, чем конверсия в первой группе."
   ]
  },
  {
   "attachments": {},
   "cell_type": "markdown",
   "metadata": {},
   "source": [
    "На основе статистически значимой разницы в конверсиях между двумя версиями сайта магазина Утконос (как указано в вашем первом сообщении), можно предложить следующие рекомендации:\n",
    "\n",
    "Рассмотреть возможность использования новой версии сайта (версия B) как основной, так как она показывает более высокую конверсию по сравнению с текущей версией (версия A).\n",
    "\n",
    "Провести дополнительные исследования для выявления причин более высокой конверсии в версии B. Это может помочь определить, какие изменения в дизайне или функциональности сайта наиболее положительно влияют на конверсию.\n",
    "\n",
    "Продолжить проведение A/B-тестирования для оптимизации дизайна и функциональности сайта с целью увеличения конверсии.\n",
    "\n",
    "Эти рекомендации могут помочь магазину Утконос улучшить свой сайт и увеличить продажи"
   ]
  },
  {
   "attachments": {},
   "cell_type": "markdown",
   "metadata": {},
   "source": [
    "### 2) Посчитайте контрольное число: среднее из 4 чисел (выборочную дисперсию, выборочное среднее, стандартное отклонение и медиану) для выборки (первые 10 натуральных разных чисел)."
   ]
  },
  {
   "attachments": {},
   "cell_type": "markdown",
   "metadata": {},
   "source": [
    "Выборочное среднее для выборки первых 10 натуральных чисел:"
   ]
  },
  {
   "cell_type": "code",
   "execution_count": 5,
   "metadata": {},
   "outputs": [
    {
     "data": {
      "text/plain": [
       "5.5"
      ]
     },
     "execution_count": 5,
     "metadata": {},
     "output_type": "execute_result"
    }
   ],
   "source": [
    "sum(range(1, 11)) / len(range(1, 11))"
   ]
  },
  {
   "attachments": {},
   "cell_type": "markdown",
   "metadata": {},
   "source": [
    "Выборочная дисперсия:"
   ]
  },
  {
   "cell_type": "code",
   "execution_count": 10,
   "metadata": {},
   "outputs": [
    {
     "data": {
      "text/plain": [
       "8.25"
      ]
     },
     "execution_count": 10,
     "metadata": {},
     "output_type": "execute_result"
    }
   ],
   "source": [
    "import statistics\n",
    "import math\n",
    "\n",
    "squared_diff = [(x - statistics.mean(range(1, 11)))**2 for x in range(1, 11)]\n",
    "statistics.mean(squared_diff)"
   ]
  },
  {
   "attachments": {},
   "cell_type": "markdown",
   "metadata": {},
   "source": [
    "Стандартное отклонение:"
   ]
  },
  {
   "cell_type": "code",
   "execution_count": 12,
   "metadata": {},
   "outputs": [
    {
     "data": {
      "text/plain": [
       "3.0276503540974917"
      ]
     },
     "execution_count": 12,
     "metadata": {},
     "output_type": "execute_result"
    }
   ],
   "source": [
    "math.sqrt(statistics.variance(range(1, 11)))"
   ]
  },
  {
   "attachments": {},
   "cell_type": "markdown",
   "metadata": {},
   "source": [
    "Медиана:"
   ]
  },
  {
   "cell_type": "code",
   "execution_count": 13,
   "metadata": {},
   "outputs": [
    {
     "data": {
      "text/plain": [
       "5.5"
      ]
     },
     "execution_count": 13,
     "metadata": {},
     "output_type": "execute_result"
    }
   ],
   "source": [
    "statistics.median(range(1, 11))"
   ]
  },
  {
   "attachments": {},
   "cell_type": "markdown",
   "metadata": {},
   "source": [
    "Тогда контрольное число это (5.5+8.25+3.1+5.5)/4 = 5.588."
   ]
  }
 ],
 "metadata": {
  "kernelspec": {
   "display_name": "Python 3",
   "language": "python",
   "name": "python3"
  },
  "language_info": {
   "codemirror_mode": {
    "name": "ipython",
    "version": 3
   },
   "file_extension": ".py",
   "mimetype": "text/x-python",
   "name": "python",
   "nbconvert_exporter": "python",
   "pygments_lexer": "ipython3",
   "version": "3.10.7"
  },
  "orig_nbformat": 4
 },
 "nbformat": 4,
 "nbformat_minor": 2
}
